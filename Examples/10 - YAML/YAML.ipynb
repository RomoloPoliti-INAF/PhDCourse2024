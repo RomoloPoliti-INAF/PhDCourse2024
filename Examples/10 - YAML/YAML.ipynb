{
 "cells": [
  {
   "cell_type": "markdown",
   "id": "ef651297-818c-4035-bca6-f10d4074f281",
   "metadata": {},
   "source": [
    "# YAML"
   ]
  },
  {
   "cell_type": "markdown",
   "id": "12c2c9fd-d132-4b46-9ce8-9c8c9b6b300a",
   "metadata": {},
   "source": [
    "**installiamo YAML**\n",
    "per installare yaml usiamo il comando\n",
    "```bash\n",
    "python3 -m pip install PyYaml\n",
    "```"
   ]
  },
  {
   "cell_type": "markdown",
   "id": "73aa7a89-75f2-4c57-a4f4-a14152121111",
   "metadata": {},
   "source": [
    "E' possibile eseguire l'installazione direttamente da Jupyter:"
   ]
  },
  {
   "cell_type": "code",
   "execution_count": 1,
   "id": "bae7b9c4-53ad-48e7-8be9-3fba42f9a5e1",
   "metadata": {},
   "outputs": [
    {
     "name": "stdout",
     "output_type": "stream",
     "text": [
      "Requirement already satisfied: PyYaml in /Library/Frameworks/Python.framework/Versions/3.12/lib/python3.12/site-packages (6.0.1)\n",
      "Note: you may need to restart the kernel to use updated packages.\n"
     ]
    }
   ],
   "source": [
    "%pip install PyYaml"
   ]
  },
  {
   "cell_type": "code",
   "execution_count": 2,
   "id": "db223de7-8f6e-44d4-9c63-b86ae6c2d0d4",
   "metadata": {
    "tags": []
   },
   "outputs": [],
   "source": [
    "import yaml\n",
    "from rich.console import Console\n",
    "console=Console()"
   ]
  },
  {
   "cell_type": "code",
   "execution_count": 3,
   "id": "e0101d69-e646-4750-9645-b48276f2b906",
   "metadata": {
    "tags": []
   },
   "outputs": [],
   "source": [
    "cfg=yaml.safe_load(open('configure.yml'))"
   ]
  },
  {
   "cell_type": "code",
   "execution_count": 4,
   "id": "6305576e-12ec-4452-878c-0f0192de6b91",
   "metadata": {
    "tags": []
   },
   "outputs": [
    {
     "data": {
      "text/html": [
       "<pre style=\"white-space:pre;overflow-x:auto;line-height:normal;font-family:Menlo,'DejaVu Sans Mono',consolas,'Courier New',monospace\"><span style=\"font-weight: bold\">{</span><span style=\"color: #008000; text-decoration-color: #008000\">'logFile'</span>: <span style=\"color: #008000; text-decoration-color: #008000\">'StateMachine.log'</span>, <span style=\"color: #008000; text-decoration-color: #008000\">'cmdHistory'</span>: <span style=\"color: #008000; text-decoration-color: #008000\">'history.csv'</span><span style=\"font-weight: bold\">}</span>\n",
       "</pre>\n"
      ],
      "text/plain": [
       "\u001b[1m{\u001b[0m\u001b[32m'logFile'\u001b[0m: \u001b[32m'StateMachine.log'\u001b[0m, \u001b[32m'cmdHistory'\u001b[0m: \u001b[32m'history.csv'\u001b[0m\u001b[1m}\u001b[0m\n"
      ]
     },
     "metadata": {},
     "output_type": "display_data"
    }
   ],
   "source": [
    "console.print(cfg)"
   ]
  },
  {
   "cell_type": "code",
   "execution_count": 6,
   "id": "51cd6f04-4693-4d3a-a750-7b883dd0591e",
   "metadata": {
    "tags": []
   },
   "outputs": [
    {
     "data": {
      "text/html": [
       "<pre style=\"white-space:pre;overflow-x:auto;line-height:normal;font-family:Menlo,'DejaVu Sans Mono',consolas,'Courier New',monospace\"><span style=\"font-weight: bold\">{</span>\n",
       "    <span style=\"color: #008000; text-decoration-color: #008000\">'advancedConfiguration'</span>: <span style=\"font-weight: bold\">{</span>\n",
       "        <span style=\"color: #008000; text-decoration-color: #008000\">'deadPixels'</span>: <span style=\"font-weight: bold\">{</span>\n",
       "            <span style=\"color: #008000; text-decoration-color: #008000\">'run'</span>: <span style=\"color: #00ff00; text-decoration-color: #00ff00; font-style: italic\">True</span>,\n",
       "            <span style=\"color: #008000; text-decoration-color: #008000\">'file'</span>: <span style=\"color: #008000; text-decoration-color: #008000\">'$ROOT/calib/jui_jan_dead_map_v0.1.dat'</span>,\n",
       "            <span style=\"color: #008000; text-decoration-color: #008000\">'size'</span>: <span style=\"color: #008000; text-decoration-color: #008000\">'(2000,1504)'</span>,\n",
       "            <span style=\"color: #008000; text-decoration-color: #008000\">'mask'</span>: <span style=\"color: #008080; text-decoration-color: #008080; font-weight: bold\">-1200</span>,\n",
       "            <span style=\"color: #008000; text-decoration-color: #008000\">'desc'</span>: <span style=\"color: #008000; text-decoration-color: #008000\">'Dead Pixels'</span>,\n",
       "            <span style=\"color: #008000; text-decoration-color: #008000\">'type'</span>: <span style=\"color: #008000; text-decoration-color: #008000\">'bool'</span>,\n",
       "            <span style=\"color: #008000; text-decoration-color: #008000\">'func'</span>: <span style=\"color: #008000; text-decoration-color: #008000\">'mask'</span>\n",
       "        <span style=\"font-weight: bold\">}</span>,\n",
       "        <span style=\"color: #008000; text-decoration-color: #008000\">'badPixels'</span>: <span style=\"font-weight: bold\">{</span>\n",
       "            <span style=\"color: #008000; text-decoration-color: #008000\">'run'</span>: <span style=\"color: #00ff00; text-decoration-color: #00ff00; font-style: italic\">True</span>,\n",
       "            <span style=\"color: #008000; text-decoration-color: #008000\">'file'</span>: <span style=\"color: #008000; text-decoration-color: #008000\">'$ROOT/calib/jui_jan_bad_map_v0.1.dat'</span>,\n",
       "            <span style=\"color: #008000; text-decoration-color: #008000\">'size'</span>: <span style=\"color: #008000; text-decoration-color: #008000\">'(2000, 1504)'</span>,\n",
       "            <span style=\"color: #008000; text-decoration-color: #008000\">'mask'</span>: <span style=\"color: #008080; text-decoration-color: #008080; font-weight: bold\">-1100</span>,\n",
       "            <span style=\"color: #008000; text-decoration-color: #008000\">'type'</span>: <span style=\"color: #008000; text-decoration-color: #008000\">'bool'</span>,\n",
       "            <span style=\"color: #008000; text-decoration-color: #008000\">'func'</span>: <span style=\"color: #008000; text-decoration-color: #008000\">'mask'</span>,\n",
       "            <span style=\"color: #008000; text-decoration-color: #008000\">'desc'</span>: <span style=\"color: #008000; text-decoration-color: #008000\">'Bad Pixels'</span>\n",
       "        <span style=\"font-weight: bold\">}</span>,\n",
       "        <span style=\"color: #008000; text-decoration-color: #008000\">'saturPixels'</span>: <span style=\"font-weight: bold\">{</span>\n",
       "            <span style=\"color: #008000; text-decoration-color: #008000\">'run'</span>: <span style=\"color: #00ff00; text-decoration-color: #00ff00; font-style: italic\">True</span>,\n",
       "            <span style=\"color: #008000; text-decoration-color: #008000\">'file'</span>: <span style=\"color: #008000; text-decoration-color: #008000\">'$ROOT/calib/jui_jan_sat_map_v0.1.dat'</span>,\n",
       "            <span style=\"color: #008000; text-decoration-color: #008000\">'size'</span>: <span style=\"color: #008000; text-decoration-color: #008000\">'(2000, 1504)'</span>,\n",
       "            <span style=\"color: #008000; text-decoration-color: #008000\">'mask'</span>: <span style=\"color: #008080; text-decoration-color: #008080; font-weight: bold\">-1000</span>,\n",
       "            <span style=\"color: #008000; text-decoration-color: #008000\">'desc'</span>: <span style=\"color: #008000; text-decoration-color: #008000\">'Saturated Pixels'</span>,\n",
       "            <span style=\"color: #008000; text-decoration-color: #008000\">'type'</span>: <span style=\"color: #008000; text-decoration-color: #008000\">'float64'</span>,\n",
       "            <span style=\"color: #008000; text-decoration-color: #008000\">'func'</span>: <span style=\"color: #008000; text-decoration-color: #008000\">'threshold'</span>\n",
       "        <span style=\"font-weight: bold\">}</span>,\n",
       "        <span style=\"color: #008000; text-decoration-color: #008000\">'darkCorrection'</span>: <span style=\"font-weight: bold\">{</span>\n",
       "            <span style=\"color: #008000; text-decoration-color: #008000\">'run'</span>: <span style=\"color: #00ff00; text-decoration-color: #00ff00; font-style: italic\">True</span>,\n",
       "            <span style=\"color: #008000; text-decoration-color: #008000\">'file'</span>: <span style=\"color: #008000; text-decoration-color: #008000\">'$ROOT/calib/jui_jan_dark_coef_v0.1.dat'</span>,\n",
       "            <span style=\"color: #008000; text-decoration-color: #008000\">'size'</span>: <span style=\"color: #008000; text-decoration-color: #008000\">'(2,2000,1504)'</span>,\n",
       "            <span style=\"color: #008000; text-decoration-color: #008000\">'mask'</span>: <span style=\"color: #008080; text-decoration-color: #008080; font-weight: bold\">0</span>,\n",
       "            <span style=\"color: #008000; text-decoration-color: #008000\">'desc'</span>: <span style=\"color: #008000; text-decoration-color: #008000\">'Dark Correction'</span>,\n",
       "            <span style=\"color: #008000; text-decoration-color: #008000\">'func'</span>: <span style=\"color: #008000; text-decoration-color: #008000\">'linearMult'</span>,\n",
       "            <span style=\"color: #008000; text-decoration-color: #008000\">'type'</span>: <span style=\"color: #008000; text-decoration-color: #008000\">'float32'</span>\n",
       "        <span style=\"font-weight: bold\">}</span>,\n",
       "        <span style=\"color: #008000; text-decoration-color: #008000\">'fpnCorrection'</span>: <span style=\"font-weight: bold\">{</span>\n",
       "            <span style=\"color: #008000; text-decoration-color: #008000\">'run'</span>: <span style=\"color: #00ff00; text-decoration-color: #00ff00; font-style: italic\">True</span>,\n",
       "            <span style=\"color: #008000; text-decoration-color: #008000\">'file'</span>: <span style=\"color: #008000; text-decoration-color: #008000\">'$ROOT/calib/jui_jan_fpn_v0.1.dat'</span>,\n",
       "            <span style=\"color: #008000; text-decoration-color: #008000\">'size'</span>: <span style=\"color: #008000; text-decoration-color: #008000\">'(2000,1504)'</span>,\n",
       "            <span style=\"color: #008000; text-decoration-color: #008000\">'mask'</span>: <span style=\"color: #008080; text-decoration-color: #008080; font-weight: bold\">0</span>,\n",
       "            <span style=\"color: #008000; text-decoration-color: #008000\">'desc'</span>: <span style=\"color: #008000; text-decoration-color: #008000\">'Offset Correction'</span>,\n",
       "            <span style=\"color: #008000; text-decoration-color: #008000\">'type'</span>: <span style=\"color: #008000; text-decoration-color: #008000\">'float32'</span>,\n",
       "            <span style=\"color: #008000; text-decoration-color: #008000\">'func'</span>: <span style=\"color: #008000; text-decoration-color: #008000\">'subtraction'</span>\n",
       "        <span style=\"font-weight: bold\">}</span>,\n",
       "        <span style=\"color: #008000; text-decoration-color: #008000\">'radCorrection'</span>: <span style=\"font-weight: bold\">{</span>\n",
       "            <span style=\"color: #008000; text-decoration-color: #008000\">'run'</span>: <span style=\"color: #00ff00; text-decoration-color: #00ff00; font-style: italic\">True</span>,\n",
       "            <span style=\"color: #008000; text-decoration-color: #008000\">'file'</span>: <span style=\"font-weight: bold\">{</span>\n",
       "                <span style=\"color: #008080; text-decoration-color: #008080; font-weight: bold\">1</span>: <span style=\"color: #008000; text-decoration-color: #008000\">'$ROOT/calib/jui_jan_rad_f1_v0.1.dat'</span>,\n",
       "                <span style=\"color: #008080; text-decoration-color: #008080; font-weight: bold\">2</span>: <span style=\"color: #008000; text-decoration-color: #008000\">'$ROOT/calib/jui_jan_rad_f2_v0.1.dat'</span>,\n",
       "                <span style=\"color: #008080; text-decoration-color: #008080; font-weight: bold\">3</span>: <span style=\"color: #008000; text-decoration-color: #008000\">'$ROOT/calib/jui_jan_rad_f3_v0.1.dat'</span>,\n",
       "                <span style=\"color: #008080; text-decoration-color: #008080; font-weight: bold\">4</span>: <span style=\"color: #008000; text-decoration-color: #008000\">'$ROOT/calib/jui_jan_rad_f4_v0.1.dat'</span>,\n",
       "                <span style=\"color: #008080; text-decoration-color: #008080; font-weight: bold\">5</span>: <span style=\"color: #008000; text-decoration-color: #008000\">'$ROOT/calib/jui_jan_rad_f5_v0.1.dat'</span>,\n",
       "                <span style=\"color: #008080; text-decoration-color: #008080; font-weight: bold\">6</span>: <span style=\"color: #008000; text-decoration-color: #008000\">'$ROOT/calib/jui_jan_rad_f6_v0.1.dat'</span>,\n",
       "                <span style=\"color: #008080; text-decoration-color: #008080; font-weight: bold\">7</span>: <span style=\"color: #008000; text-decoration-color: #008000\">'$ROOT/calib/jui_jan_rad_f7_v0.1.dat'</span>,\n",
       "                <span style=\"color: #008080; text-decoration-color: #008080; font-weight: bold\">8</span>: <span style=\"color: #008000; text-decoration-color: #008000\">'$ROOT/calib/jui_jan_rad_f8_v0.1.dat'</span>,\n",
       "                <span style=\"color: #008080; text-decoration-color: #008080; font-weight: bold\">9</span>: <span style=\"color: #008000; text-decoration-color: #008000\">'$ROOT/calib/jui_jan_rad_f9_v0.1.dat'</span>,\n",
       "                <span style=\"color: #008080; text-decoration-color: #008080; font-weight: bold\">10</span>: <span style=\"color: #008000; text-decoration-color: #008000\">'$ROOT/calib/jui_jan_rad_f10_v0.1.dat'</span>,\n",
       "                <span style=\"color: #008080; text-decoration-color: #008080; font-weight: bold\">11</span>: <span style=\"color: #008000; text-decoration-color: #008000\">'$ROOT/calib/jui_jan_rad_f11_v0.1.dat'</span>,\n",
       "                <span style=\"color: #008080; text-decoration-color: #008080; font-weight: bold\">12</span>: <span style=\"color: #008000; text-decoration-color: #008000\">'$ROOT/calib/jui_jan_rad_f12_v0.1.dat'</span>,\n",
       "                <span style=\"color: #008080; text-decoration-color: #008080; font-weight: bold\">13</span>: <span style=\"color: #008000; text-decoration-color: #008000\">'$ROOT/calib/jui_jan_rad_f13_v0.1.dat'</span>\n",
       "            <span style=\"font-weight: bold\">}</span>,\n",
       "            <span style=\"color: #008000; text-decoration-color: #008000\">'size'</span>: <span style=\"color: #008000; text-decoration-color: #008000\">'(3, 2000, 1504)'</span>,\n",
       "            <span style=\"color: #008000; text-decoration-color: #008000\">'mask'</span>: <span style=\"color: #008080; text-decoration-color: #008080; font-weight: bold\">0</span>,\n",
       "            <span style=\"color: #008000; text-decoration-color: #008000\">'desc'</span>: <span style=\"color: #008000; text-decoration-color: #008000\">'Radiometric Calibration'</span>,\n",
       "            <span style=\"color: #008000; text-decoration-color: #008000\">'type'</span>: <span style=\"color: #008000; text-decoration-color: #008000\">'float64'</span>,\n",
       "            <span style=\"color: #008000; text-decoration-color: #008000\">'func'</span>: <span style=\"color: #008000; text-decoration-color: #008000\">'quad'</span>\n",
       "        <span style=\"font-weight: bold\">}</span>\n",
       "    <span style=\"font-weight: bold\">}</span>,\n",
       "    <span style=\"color: #008000; text-decoration-color: #008000\">'test'</span>: <span style=\"font-weight: bold\">[</span><span style=\"color: #008000; text-decoration-color: #008000\">'alpha'</span>, <span style=\"color: #008000; text-decoration-color: #008000\">'beta'</span>, <span style=\"color: #008000; text-decoration-color: #008000\">'gamma'</span><span style=\"font-weight: bold\">]</span>\n",
       "<span style=\"font-weight: bold\">}</span>\n",
       "</pre>\n"
      ],
      "text/plain": [
       "\u001b[1m{\u001b[0m\n",
       "    \u001b[32m'advancedConfiguration'\u001b[0m: \u001b[1m{\u001b[0m\n",
       "        \u001b[32m'deadPixels'\u001b[0m: \u001b[1m{\u001b[0m\n",
       "            \u001b[32m'run'\u001b[0m: \u001b[3;92mTrue\u001b[0m,\n",
       "            \u001b[32m'file'\u001b[0m: \u001b[32m'$ROOT/calib/jui_jan_dead_map_v0.1.dat'\u001b[0m,\n",
       "            \u001b[32m'size'\u001b[0m: \u001b[32m'\u001b[0m\u001b[32m(\u001b[0m\u001b[32m2000,1504\u001b[0m\u001b[32m)\u001b[0m\u001b[32m'\u001b[0m,\n",
       "            \u001b[32m'mask'\u001b[0m: \u001b[1;36m-1200\u001b[0m,\n",
       "            \u001b[32m'desc'\u001b[0m: \u001b[32m'Dead Pixels'\u001b[0m,\n",
       "            \u001b[32m'type'\u001b[0m: \u001b[32m'bool'\u001b[0m,\n",
       "            \u001b[32m'func'\u001b[0m: \u001b[32m'mask'\u001b[0m\n",
       "        \u001b[1m}\u001b[0m,\n",
       "        \u001b[32m'badPixels'\u001b[0m: \u001b[1m{\u001b[0m\n",
       "            \u001b[32m'run'\u001b[0m: \u001b[3;92mTrue\u001b[0m,\n",
       "            \u001b[32m'file'\u001b[0m: \u001b[32m'$ROOT/calib/jui_jan_bad_map_v0.1.dat'\u001b[0m,\n",
       "            \u001b[32m'size'\u001b[0m: \u001b[32m'\u001b[0m\u001b[32m(\u001b[0m\u001b[32m2000, 1504\u001b[0m\u001b[32m)\u001b[0m\u001b[32m'\u001b[0m,\n",
       "            \u001b[32m'mask'\u001b[0m: \u001b[1;36m-1100\u001b[0m,\n",
       "            \u001b[32m'type'\u001b[0m: \u001b[32m'bool'\u001b[0m,\n",
       "            \u001b[32m'func'\u001b[0m: \u001b[32m'mask'\u001b[0m,\n",
       "            \u001b[32m'desc'\u001b[0m: \u001b[32m'Bad Pixels'\u001b[0m\n",
       "        \u001b[1m}\u001b[0m,\n",
       "        \u001b[32m'saturPixels'\u001b[0m: \u001b[1m{\u001b[0m\n",
       "            \u001b[32m'run'\u001b[0m: \u001b[3;92mTrue\u001b[0m,\n",
       "            \u001b[32m'file'\u001b[0m: \u001b[32m'$ROOT/calib/jui_jan_sat_map_v0.1.dat'\u001b[0m,\n",
       "            \u001b[32m'size'\u001b[0m: \u001b[32m'\u001b[0m\u001b[32m(\u001b[0m\u001b[32m2000, 1504\u001b[0m\u001b[32m)\u001b[0m\u001b[32m'\u001b[0m,\n",
       "            \u001b[32m'mask'\u001b[0m: \u001b[1;36m-1000\u001b[0m,\n",
       "            \u001b[32m'desc'\u001b[0m: \u001b[32m'Saturated Pixels'\u001b[0m,\n",
       "            \u001b[32m'type'\u001b[0m: \u001b[32m'float64'\u001b[0m,\n",
       "            \u001b[32m'func'\u001b[0m: \u001b[32m'threshold'\u001b[0m\n",
       "        \u001b[1m}\u001b[0m,\n",
       "        \u001b[32m'darkCorrection'\u001b[0m: \u001b[1m{\u001b[0m\n",
       "            \u001b[32m'run'\u001b[0m: \u001b[3;92mTrue\u001b[0m,\n",
       "            \u001b[32m'file'\u001b[0m: \u001b[32m'$ROOT/calib/jui_jan_dark_coef_v0.1.dat'\u001b[0m,\n",
       "            \u001b[32m'size'\u001b[0m: \u001b[32m'\u001b[0m\u001b[32m(\u001b[0m\u001b[32m2,2000,1504\u001b[0m\u001b[32m)\u001b[0m\u001b[32m'\u001b[0m,\n",
       "            \u001b[32m'mask'\u001b[0m: \u001b[1;36m0\u001b[0m,\n",
       "            \u001b[32m'desc'\u001b[0m: \u001b[32m'Dark Correction'\u001b[0m,\n",
       "            \u001b[32m'func'\u001b[0m: \u001b[32m'linearMult'\u001b[0m,\n",
       "            \u001b[32m'type'\u001b[0m: \u001b[32m'float32'\u001b[0m\n",
       "        \u001b[1m}\u001b[0m,\n",
       "        \u001b[32m'fpnCorrection'\u001b[0m: \u001b[1m{\u001b[0m\n",
       "            \u001b[32m'run'\u001b[0m: \u001b[3;92mTrue\u001b[0m,\n",
       "            \u001b[32m'file'\u001b[0m: \u001b[32m'$ROOT/calib/jui_jan_fpn_v0.1.dat'\u001b[0m,\n",
       "            \u001b[32m'size'\u001b[0m: \u001b[32m'\u001b[0m\u001b[32m(\u001b[0m\u001b[32m2000,1504\u001b[0m\u001b[32m)\u001b[0m\u001b[32m'\u001b[0m,\n",
       "            \u001b[32m'mask'\u001b[0m: \u001b[1;36m0\u001b[0m,\n",
       "            \u001b[32m'desc'\u001b[0m: \u001b[32m'Offset Correction'\u001b[0m,\n",
       "            \u001b[32m'type'\u001b[0m: \u001b[32m'float32'\u001b[0m,\n",
       "            \u001b[32m'func'\u001b[0m: \u001b[32m'subtraction'\u001b[0m\n",
       "        \u001b[1m}\u001b[0m,\n",
       "        \u001b[32m'radCorrection'\u001b[0m: \u001b[1m{\u001b[0m\n",
       "            \u001b[32m'run'\u001b[0m: \u001b[3;92mTrue\u001b[0m,\n",
       "            \u001b[32m'file'\u001b[0m: \u001b[1m{\u001b[0m\n",
       "                \u001b[1;36m1\u001b[0m: \u001b[32m'$ROOT/calib/jui_jan_rad_f1_v0.1.dat'\u001b[0m,\n",
       "                \u001b[1;36m2\u001b[0m: \u001b[32m'$ROOT/calib/jui_jan_rad_f2_v0.1.dat'\u001b[0m,\n",
       "                \u001b[1;36m3\u001b[0m: \u001b[32m'$ROOT/calib/jui_jan_rad_f3_v0.1.dat'\u001b[0m,\n",
       "                \u001b[1;36m4\u001b[0m: \u001b[32m'$ROOT/calib/jui_jan_rad_f4_v0.1.dat'\u001b[0m,\n",
       "                \u001b[1;36m5\u001b[0m: \u001b[32m'$ROOT/calib/jui_jan_rad_f5_v0.1.dat'\u001b[0m,\n",
       "                \u001b[1;36m6\u001b[0m: \u001b[32m'$ROOT/calib/jui_jan_rad_f6_v0.1.dat'\u001b[0m,\n",
       "                \u001b[1;36m7\u001b[0m: \u001b[32m'$ROOT/calib/jui_jan_rad_f7_v0.1.dat'\u001b[0m,\n",
       "                \u001b[1;36m8\u001b[0m: \u001b[32m'$ROOT/calib/jui_jan_rad_f8_v0.1.dat'\u001b[0m,\n",
       "                \u001b[1;36m9\u001b[0m: \u001b[32m'$ROOT/calib/jui_jan_rad_f9_v0.1.dat'\u001b[0m,\n",
       "                \u001b[1;36m10\u001b[0m: \u001b[32m'$ROOT/calib/jui_jan_rad_f10_v0.1.dat'\u001b[0m,\n",
       "                \u001b[1;36m11\u001b[0m: \u001b[32m'$ROOT/calib/jui_jan_rad_f11_v0.1.dat'\u001b[0m,\n",
       "                \u001b[1;36m12\u001b[0m: \u001b[32m'$ROOT/calib/jui_jan_rad_f12_v0.1.dat'\u001b[0m,\n",
       "                \u001b[1;36m13\u001b[0m: \u001b[32m'$ROOT/calib/jui_jan_rad_f13_v0.1.dat'\u001b[0m\n",
       "            \u001b[1m}\u001b[0m,\n",
       "            \u001b[32m'size'\u001b[0m: \u001b[32m'\u001b[0m\u001b[32m(\u001b[0m\u001b[32m3, 2000, 1504\u001b[0m\u001b[32m)\u001b[0m\u001b[32m'\u001b[0m,\n",
       "            \u001b[32m'mask'\u001b[0m: \u001b[1;36m0\u001b[0m,\n",
       "            \u001b[32m'desc'\u001b[0m: \u001b[32m'Radiometric Calibration'\u001b[0m,\n",
       "            \u001b[32m'type'\u001b[0m: \u001b[32m'float64'\u001b[0m,\n",
       "            \u001b[32m'func'\u001b[0m: \u001b[32m'quad'\u001b[0m\n",
       "        \u001b[1m}\u001b[0m\n",
       "    \u001b[1m}\u001b[0m,\n",
       "    \u001b[32m'test'\u001b[0m: \u001b[1m[\u001b[0m\u001b[32m'alpha'\u001b[0m, \u001b[32m'beta'\u001b[0m, \u001b[32m'gamma'\u001b[0m\u001b[1m]\u001b[0m\n",
       "\u001b[1m}\u001b[0m\n"
      ]
     },
     "metadata": {},
     "output_type": "display_data"
    }
   ],
   "source": [
    "adv=yaml.safe_load(open('advanced.yml'))\n",
    "console.print(adv)"
   ]
  },
  {
   "cell_type": "code",
   "execution_count": null,
   "id": "dbcada57-21a7-4b2a-a3c9-6b52f593d399",
   "metadata": {},
   "outputs": [],
   "source": []
  }
 ],
 "metadata": {
  "kernelspec": {
   "display_name": "Python 3",
   "language": "python",
   "name": "python3"
  },
  "language_info": {
   "codemirror_mode": {
    "name": "ipython",
    "version": 3
   },
   "file_extension": ".py",
   "mimetype": "text/x-python",
   "name": "python",
   "nbconvert_exporter": "python",
   "pygments_lexer": "ipython3",
   "version": "3.12.4"
  }
 },
 "nbformat": 4,
 "nbformat_minor": 5
}
